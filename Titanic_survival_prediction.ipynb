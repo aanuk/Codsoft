{
 "cells": [
  {
   "cell_type": "code",
   "execution_count": null,
   "id": "e783ada7",
   "metadata": {},
   "outputs": [],
   "source": [
    "import numpy as np\n",
    "import pandas as pd\n",
    "from sklearn.model_selection import train_test_split\n",
    "from sklearn.metrics import classification_report, confusion_matrix\n",
    "import seaborn as sns\n",
    "import matplotlib.pyplot as plt"
   ]
  },
  {
   "cell_type": "code",
   "execution_count": null,
   "id": "40541c4f",
   "metadata": {},
   "outputs": [],
   "source": [
    "df = pd.read_csv(\"C:/Users/USER/Desktop/Dataset_Codsoft/titanic.csv\")\n",
    "df"
   ]
  },
  {
   "cell_type": "code",
   "execution_count": null,
   "id": "9baea7e6",
   "metadata": {},
   "outputs": [],
   "source": [
    "import seaborn as sns\n",
    "sns.heatmap(df.corr(), cmap=\"YlGn\", annot=True)"
   ]
  },
  {
   "cell_type": "code",
   "execution_count": null,
   "id": "6f895177",
   "metadata": {},
   "outputs": [],
   "source": [
    "df.info()"
   ]
  },
  {
   "cell_type": "code",
   "execution_count": null,
   "id": "9cdcd930",
   "metadata": {},
   "outputs": [],
   "source": [
    "df.describe()"
   ]
  },
  {
   "cell_type": "code",
   "execution_count": null,
   "id": "7ad10f9c",
   "metadata": {},
   "outputs": [],
   "source": [
    "print(df.isnull().sum())"
   ]
  },
  {
   "cell_type": "code",
   "execution_count": null,
   "id": "f7742a79",
   "metadata": {},
   "outputs": [],
   "source": [
    "df = df.drop(columns='Cabin', axis=1)"
   ]
  },
  {
   "cell_type": "code",
   "execution_count": null,
   "id": "b1409837",
   "metadata": {},
   "outputs": [],
   "source": [
    "# Handling null values\n",
    "age_mean = df[\"Age\"].mean()\n",
    "fare_mean = df[\"Fare\"].mean()\n",
    "df[\"Age\"].fillna(age_mean, inplace = True)\n",
    "df[\"Fare\"].fillna(fare_mean, inplace = True)\n",
    "print(df.isnull().sum())"
   ]
  },
  {
   "cell_type": "code",
   "execution_count": null,
   "id": "e2de9f68",
   "metadata": {},
   "outputs": [],
   "source": [
    "df.groupby(\"Survived\").Survived.count()"
   ]
  },
  {
   "cell_type": "code",
   "execution_count": null,
   "id": "2678ee61",
   "metadata": {},
   "outputs": [],
   "source": [
    "sns.countplot(x=\"Sex\", hue=\"Survived\", data=df)"
   ]
  },
  {
   "cell_type": "code",
   "execution_count": null,
   "id": "33ee7fb8",
   "metadata": {},
   "outputs": [],
   "source": [
    "df.groupby(\"Sex\").Sex.count().plot.bar()\n",
    "plt.show()\n",
    "print(df.groupby(\"Sex\").Sex.count())"
   ]
  },
  {
   "cell_type": "code",
   "execution_count": null,
   "id": "67f5afd8",
   "metadata": {},
   "outputs": [],
   "source": [
    "sns.set_style('whitegrid')\n",
    "sns.countplot(x=\"Survived\", hue= \"Pclass\", data= df)"
   ]
  },
  {
   "cell_type": "markdown",
   "id": "13f0b76f",
   "metadata": {},
   "source": [
    "This shows that the passenger of Pclass = 3 i.e 3rd class passengers has the higher death rate."
   ]
  },
  {
   "cell_type": "code",
   "execution_count": null,
   "id": "3059a551",
   "metadata": {},
   "outputs": [],
   "source": [
    "sns.set_style('whitegrid')\n",
    "sns.countplot(x=\"Survived\", hue= \"SibSp\", data= df)"
   ]
  },
  {
   "cell_type": "code",
   "execution_count": null,
   "id": "6470332d",
   "metadata": {},
   "outputs": [],
   "source": [
    "sns.set_style('whitegrid')\n",
    "sns.countplot(x=\"Survived\", hue= \"Parch\", data= df)"
   ]
  },
  {
   "cell_type": "code",
   "execution_count": null,
   "id": "29c2a934",
   "metadata": {},
   "outputs": [],
   "source": [
    "# converting categorical Columns\n",
    "df.replace({'Sex':{'male':0,'female':1}, 'Embarked':{'S':0,'C':1,'Q':2}}, inplace=True)"
   ]
  },
  {
   "cell_type": "code",
   "execution_count": null,
   "id": "b684a0f6",
   "metadata": {},
   "outputs": [],
   "source": [
    "from sklearn.linear_model import LogisticRegression\n",
    "X = df.drop(columns=['Survived', 'Name', 'PassengerId', 'Ticket'], axis=1)\n",
    "Y = df['Survived']\n",
    "# Splitting the dataset in the ratio of 7:3\n",
    "X_train , X_test, Y_train, Y_test = train_test_split(X, Y, test_size = 0.30)\n",
    "\n",
    "# Training the model using Logistic Regression\n",
    "model = LogisticRegression(max_iter = 1000)\n",
    "model.fit(X_train, Y_train)\n"
   ]
  },
  {
   "cell_type": "code",
   "execution_count": null,
   "id": "57104812",
   "metadata": {},
   "outputs": [],
   "source": [
    "# Calculating accuracy of the model\n",
    "from sklearn.metrics import accuracy_score\n",
    "prediction = model.predict(X_test)\n",
    "print(\"Accuracy = \", accuracy_score(Y_test, prediction))"
   ]
  },
  {
   "cell_type": "code",
   "execution_count": null,
   "id": "a057a936",
   "metadata": {},
   "outputs": [],
   "source": [
    "ytest = np.array(Y_test)\n",
    "print(classification_report(ytest, model.predict(X_test)))"
   ]
  },
  {
   "cell_type": "code",
   "execution_count": null,
   "id": "aa3cdd40",
   "metadata": {},
   "outputs": [],
   "source": []
  }
 ],
 "metadata": {
  "kernelspec": {
   "display_name": "Python 3 (ipykernel)",
   "language": "python",
   "name": "python3"
  },
  "language_info": {
   "codemirror_mode": {
    "name": "ipython",
    "version": 3
   },
   "file_extension": ".py",
   "mimetype": "text/x-python",
   "name": "python",
   "nbconvert_exporter": "python",
   "pygments_lexer": "ipython3",
   "version": "3.10.9"
  }
 },
 "nbformat": 4,
 "nbformat_minor": 5
}
